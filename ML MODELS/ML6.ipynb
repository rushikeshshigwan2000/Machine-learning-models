{
 "cells": [
  {
   "cell_type": "code",
   "execution_count": 1,
   "id": "6b172f40",
   "metadata": {},
   "outputs": [],
   "source": [
    "import numpy as np"
   ]
  },
  {
   "cell_type": "code",
   "execution_count": 6,
   "id": "f9a8e29c",
   "metadata": {},
   "outputs": [],
   "source": [
    "maze=np.array([\n",
    "    [0,0,0,0,0],\n",
    "    [0,1,0,1,0],\n",
    "    [0,0,0,0,0],\n",
    "    [0,1,1,1,0],\n",
    "    [0,0,0,0,2]\n",
    "])\n",
    "\n",
    "epsilon=0.1\n",
    "num_episodes=1000\n",
    "\n",
    "num_states=maze.size\n",
    "num_actions=4\n",
    "\n",
    "Q=np.zeros((num_states,num_actions))"
   ]
  },
  {
   "cell_type": "code",
   "execution_count": 8,
   "id": "8dbca7da",
   "metadata": {},
   "outputs": [],
   "source": [
    "for _ in range(num_episodes):\n",
    "    state=0\n",
    "    \n",
    "    while True:\n",
    "        if np.random.uniform(0,1)<epsilon:\n",
    "            action=np.random.choice(num_actions)\n",
    "        else:\n",
    "            action=np.argmax(Q[state,:])\n",
    "            \n",
    "            new_state=state+[0,1,2,3][action]\n",
    "            reward=[-1,1,0][maze.flat[new_state]]\n",
    "            \n",
    "            if reward:\n",
    "                break\n",
    "            else:\n",
    "                state=new_state"
   ]
  },
  {
   "cell_type": "code",
   "execution_count": 9,
   "id": "525b6ace",
   "metadata": {},
   "outputs": [
    {
     "name": "stdout",
     "output_type": "stream",
     "text": [
      "Agent moved to state -> 1\n",
      "Agent moved to state -> 2\n",
      "Agent moved to state -> 3\n",
      "Agent moved to state -> 4\n",
      "Agent moved to state -> 5\n",
      "Agent moved to state -> 6\n",
      "Agent moved to state -> 7\n",
      "Agent moved to state -> 8\n",
      "Agent moved to state -> 9\n",
      "Agent moved to state -> 10\n",
      "Agent moved to state -> 11\n",
      "Agent moved to state -> 12\n",
      "Agent moved to state -> 13\n",
      "Agent moved to state -> 14\n",
      "Agent moved to state -> 15\n",
      "Agent moved to state -> 16\n"
     ]
    }
   ],
   "source": [
    "current_state=0\n",
    "\n",
    "while current_state!=16:\n",
    "    action=np.argmax(Q[current_state,:])\n",
    "    current_state+=action+1\n",
    "    \n",
    "    print(\"Agent moved to state ->\",current_state)"
   ]
  },
  {
   "cell_type": "code",
   "execution_count": null,
   "id": "381ea6d4",
   "metadata": {},
   "outputs": [],
   "source": []
  }
 ],
 "metadata": {
  "kernelspec": {
   "display_name": "Python 3 (ipykernel)",
   "language": "python",
   "name": "python3"
  },
  "language_info": {
   "codemirror_mode": {
    "name": "ipython",
    "version": 3
   },
   "file_extension": ".py",
   "mimetype": "text/x-python",
   "name": "python",
   "nbconvert_exporter": "python",
   "pygments_lexer": "ipython3",
   "version": "3.9.7"
  }
 },
 "nbformat": 4,
 "nbformat_minor": 5
}
